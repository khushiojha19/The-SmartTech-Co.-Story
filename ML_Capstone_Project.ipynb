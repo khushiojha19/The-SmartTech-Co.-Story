{
  "nbformat": 4,
  "nbformat_minor": 0,
  "metadata": {
    "colab": {
      "provenance": []
    },
    "kernelspec": {
      "name": "python3",
      "display_name": "Python 3"
    },
    "language_info": {
      "name": "python"
    }
  },
  "cells": [
    {
      "cell_type": "markdown",
      "source": [
        "**Machine Learning Capstone Project**"
      ],
      "metadata": {
        "id": "Rc-3k28vYau9"
      }
    },
    {
      "cell_type": "markdown",
      "source": [
        "**Step 01 : Uploading the dataset**"
      ],
      "metadata": {
        "id": "bOnVDeQyYpIo"
      }
    },
    {
      "cell_type": "code",
      "source": [
        "from google.colab import files\n",
        "\n",
        "\n",
        "# Upload the file\n",
        "\n",
        "uploaded = files.upload()\n",
        "\n",
        "\n",
        "# Importing the library 'Pandas' to load and read the file\n",
        "\n",
        "import pandas as pd\n",
        "\n",
        "data = pd.read_csv(\"laptop.csv\")\n",
        "\n"
      ],
      "metadata": {
        "colab": {
          "base_uri": "https://localhost:8080/",
          "height": 73
        },
        "id": "SnlI2Jkrb1Sx",
        "outputId": "bb5fcf10-7075-4190-d9cf-309132bb2d76"
      },
      "execution_count": null,
      "outputs": [
        {
          "output_type": "display_data",
          "data": {
            "text/plain": [
              "<IPython.core.display.HTML object>"
            ],
            "text/html": [
              "\n",
              "     <input type=\"file\" id=\"files-344d2d6f-2a09-4922-af17-677e7039e590\" name=\"files[]\" multiple disabled\n",
              "        style=\"border:none\" />\n",
              "     <output id=\"result-344d2d6f-2a09-4922-af17-677e7039e590\">\n",
              "      Upload widget is only available when the cell has been executed in the\n",
              "      current browser session. Please rerun this cell to enable.\n",
              "      </output>\n",
              "      <script>// Copyright 2017 Google LLC\n",
              "//\n",
              "// Licensed under the Apache License, Version 2.0 (the \"License\");\n",
              "// you may not use this file except in compliance with the License.\n",
              "// You may obtain a copy of the License at\n",
              "//\n",
              "//      http://www.apache.org/licenses/LICENSE-2.0\n",
              "//\n",
              "// Unless required by applicable law or agreed to in writing, software\n",
              "// distributed under the License is distributed on an \"AS IS\" BASIS,\n",
              "// WITHOUT WARRANTIES OR CONDITIONS OF ANY KIND, either express or implied.\n",
              "// See the License for the specific language governing permissions and\n",
              "// limitations under the License.\n",
              "\n",
              "/**\n",
              " * @fileoverview Helpers for google.colab Python module.\n",
              " */\n",
              "(function(scope) {\n",
              "function span(text, styleAttributes = {}) {\n",
              "  const element = document.createElement('span');\n",
              "  element.textContent = text;\n",
              "  for (const key of Object.keys(styleAttributes)) {\n",
              "    element.style[key] = styleAttributes[key];\n",
              "  }\n",
              "  return element;\n",
              "}\n",
              "\n",
              "// Max number of bytes which will be uploaded at a time.\n",
              "const MAX_PAYLOAD_SIZE = 100 * 1024;\n",
              "\n",
              "function _uploadFiles(inputId, outputId) {\n",
              "  const steps = uploadFilesStep(inputId, outputId);\n",
              "  const outputElement = document.getElementById(outputId);\n",
              "  // Cache steps on the outputElement to make it available for the next call\n",
              "  // to uploadFilesContinue from Python.\n",
              "  outputElement.steps = steps;\n",
              "\n",
              "  return _uploadFilesContinue(outputId);\n",
              "}\n",
              "\n",
              "// This is roughly an async generator (not supported in the browser yet),\n",
              "// where there are multiple asynchronous steps and the Python side is going\n",
              "// to poll for completion of each step.\n",
              "// This uses a Promise to block the python side on completion of each step,\n",
              "// then passes the result of the previous step as the input to the next step.\n",
              "function _uploadFilesContinue(outputId) {\n",
              "  const outputElement = document.getElementById(outputId);\n",
              "  const steps = outputElement.steps;\n",
              "\n",
              "  const next = steps.next(outputElement.lastPromiseValue);\n",
              "  return Promise.resolve(next.value.promise).then((value) => {\n",
              "    // Cache the last promise value to make it available to the next\n",
              "    // step of the generator.\n",
              "    outputElement.lastPromiseValue = value;\n",
              "    return next.value.response;\n",
              "  });\n",
              "}\n",
              "\n",
              "/**\n",
              " * Generator function which is called between each async step of the upload\n",
              " * process.\n",
              " * @param {string} inputId Element ID of the input file picker element.\n",
              " * @param {string} outputId Element ID of the output display.\n",
              " * @return {!Iterable<!Object>} Iterable of next steps.\n",
              " */\n",
              "function* uploadFilesStep(inputId, outputId) {\n",
              "  const inputElement = document.getElementById(inputId);\n",
              "  inputElement.disabled = false;\n",
              "\n",
              "  const outputElement = document.getElementById(outputId);\n",
              "  outputElement.innerHTML = '';\n",
              "\n",
              "  const pickedPromise = new Promise((resolve) => {\n",
              "    inputElement.addEventListener('change', (e) => {\n",
              "      resolve(e.target.files);\n",
              "    });\n",
              "  });\n",
              "\n",
              "  const cancel = document.createElement('button');\n",
              "  inputElement.parentElement.appendChild(cancel);\n",
              "  cancel.textContent = 'Cancel upload';\n",
              "  const cancelPromise = new Promise((resolve) => {\n",
              "    cancel.onclick = () => {\n",
              "      resolve(null);\n",
              "    };\n",
              "  });\n",
              "\n",
              "  // Wait for the user to pick the files.\n",
              "  const files = yield {\n",
              "    promise: Promise.race([pickedPromise, cancelPromise]),\n",
              "    response: {\n",
              "      action: 'starting',\n",
              "    }\n",
              "  };\n",
              "\n",
              "  cancel.remove();\n",
              "\n",
              "  // Disable the input element since further picks are not allowed.\n",
              "  inputElement.disabled = true;\n",
              "\n",
              "  if (!files) {\n",
              "    return {\n",
              "      response: {\n",
              "        action: 'complete',\n",
              "      }\n",
              "    };\n",
              "  }\n",
              "\n",
              "  for (const file of files) {\n",
              "    const li = document.createElement('li');\n",
              "    li.append(span(file.name, {fontWeight: 'bold'}));\n",
              "    li.append(span(\n",
              "        `(${file.type || 'n/a'}) - ${file.size} bytes, ` +\n",
              "        `last modified: ${\n",
              "            file.lastModifiedDate ? file.lastModifiedDate.toLocaleDateString() :\n",
              "                                    'n/a'} - `));\n",
              "    const percent = span('0% done');\n",
              "    li.appendChild(percent);\n",
              "\n",
              "    outputElement.appendChild(li);\n",
              "\n",
              "    const fileDataPromise = new Promise((resolve) => {\n",
              "      const reader = new FileReader();\n",
              "      reader.onload = (e) => {\n",
              "        resolve(e.target.result);\n",
              "      };\n",
              "      reader.readAsArrayBuffer(file);\n",
              "    });\n",
              "    // Wait for the data to be ready.\n",
              "    let fileData = yield {\n",
              "      promise: fileDataPromise,\n",
              "      response: {\n",
              "        action: 'continue',\n",
              "      }\n",
              "    };\n",
              "\n",
              "    // Use a chunked sending to avoid message size limits. See b/62115660.\n",
              "    let position = 0;\n",
              "    do {\n",
              "      const length = Math.min(fileData.byteLength - position, MAX_PAYLOAD_SIZE);\n",
              "      const chunk = new Uint8Array(fileData, position, length);\n",
              "      position += length;\n",
              "\n",
              "      const base64 = btoa(String.fromCharCode.apply(null, chunk));\n",
              "      yield {\n",
              "        response: {\n",
              "          action: 'append',\n",
              "          file: file.name,\n",
              "          data: base64,\n",
              "        },\n",
              "      };\n",
              "\n",
              "      let percentDone = fileData.byteLength === 0 ?\n",
              "          100 :\n",
              "          Math.round((position / fileData.byteLength) * 100);\n",
              "      percent.textContent = `${percentDone}% done`;\n",
              "\n",
              "    } while (position < fileData.byteLength);\n",
              "  }\n",
              "\n",
              "  // All done.\n",
              "  yield {\n",
              "    response: {\n",
              "      action: 'complete',\n",
              "    }\n",
              "  };\n",
              "}\n",
              "\n",
              "scope.google = scope.google || {};\n",
              "scope.google.colab = scope.google.colab || {};\n",
              "scope.google.colab._files = {\n",
              "  _uploadFiles,\n",
              "  _uploadFilesContinue,\n",
              "};\n",
              "})(self);\n",
              "</script> "
            ]
          },
          "metadata": {}
        },
        {
          "output_type": "stream",
          "name": "stdout",
          "text": [
            "Saving laptop.csv to laptop.csv\n"
          ]
        }
      ]
    },
    {
      "cell_type": "markdown",
      "source": [
        "**Step 02 : Inspecting the Dataset**"
      ],
      "metadata": {
        "id": "1VsnjSE4dPMR"
      }
    },
    {
      "cell_type": "code",
      "source": [
        "# To check the first 5 rows of the dataset\n",
        "\n",
        "print(data.head())\n",
        "\n"
      ],
      "metadata": {
        "colab": {
          "base_uri": "https://localhost:8080/"
        },
        "id": "L0BBfBC8dXUy",
        "outputId": "d2e482ba-472e-4c47-aa20-ce8186229fdb"
      },
      "execution_count": null,
      "outputs": [
        {
          "output_type": "stream",
          "name": "stdout",
          "text": [
            "   Unnamed: 0.1  Unnamed: 0 Company   TypeName Inches  \\\n",
            "0             0         0.0   Apple  Ultrabook   13.3   \n",
            "1             1         1.0   Apple  Ultrabook   13.3   \n",
            "2             2         2.0      HP   Notebook   15.6   \n",
            "3             3         3.0   Apple  Ultrabook   15.4   \n",
            "4             4         4.0   Apple  Ultrabook   13.3   \n",
            "\n",
            "                     ScreenResolution                         Cpu   Ram  \\\n",
            "0  IPS Panel Retina Display 2560x1600        Intel Core i5 2.3GHz   8GB   \n",
            "1                            1440x900        Intel Core i5 1.8GHz   8GB   \n",
            "2                   Full HD 1920x1080  Intel Core i5 7200U 2.5GHz   8GB   \n",
            "3  IPS Panel Retina Display 2880x1800        Intel Core i7 2.7GHz  16GB   \n",
            "4  IPS Panel Retina Display 2560x1600        Intel Core i5 3.1GHz   8GB   \n",
            "\n",
            "                Memory                           Gpu  OpSys  Weight  \\\n",
            "0            128GB SSD  Intel Iris Plus Graphics 640  macOS  1.37kg   \n",
            "1  128GB Flash Storage        Intel HD Graphics 6000  macOS  1.34kg   \n",
            "2            256GB SSD         Intel HD Graphics 620  No OS  1.86kg   \n",
            "3            512GB SSD            AMD Radeon Pro 455  macOS  1.83kg   \n",
            "4            256GB SSD  Intel Iris Plus Graphics 650  macOS  1.37kg   \n",
            "\n",
            "         Price  \n",
            "0   71378.6832  \n",
            "1   47895.5232  \n",
            "2   30636.0000  \n",
            "3  135195.3360  \n",
            "4   96095.8080  \n"
          ]
        }
      ]
    },
    {
      "cell_type": "code",
      "source": [
        "# To get a structural overview of the dataset\n",
        "\n",
        "print(data.info())\n",
        "\n"
      ],
      "metadata": {
        "colab": {
          "base_uri": "https://localhost:8080/"
        },
        "id": "hvF0DK47eH1-",
        "outputId": "d4b6dc43-8d0e-4d12-dff9-42c3cdd09d5b"
      },
      "execution_count": null,
      "outputs": [
        {
          "output_type": "stream",
          "name": "stdout",
          "text": [
            "<class 'pandas.core.frame.DataFrame'>\n",
            "RangeIndex: 1303 entries, 0 to 1302\n",
            "Data columns (total 13 columns):\n",
            " #   Column            Non-Null Count  Dtype  \n",
            "---  ------            --------------  -----  \n",
            " 0   Unnamed: 0.1      1303 non-null   int64  \n",
            " 1   Unnamed: 0        1273 non-null   float64\n",
            " 2   Company           1273 non-null   object \n",
            " 3   TypeName          1273 non-null   object \n",
            " 4   Inches            1273 non-null   object \n",
            " 5   ScreenResolution  1273 non-null   object \n",
            " 6   Cpu               1273 non-null   object \n",
            " 7   Ram               1273 non-null   object \n",
            " 8   Memory            1273 non-null   object \n",
            " 9   Gpu               1273 non-null   object \n",
            " 10  OpSys             1273 non-null   object \n",
            " 11  Weight            1273 non-null   object \n",
            " 12  Price             1273 non-null   float64\n",
            "dtypes: float64(2), int64(1), object(10)\n",
            "memory usage: 132.5+ KB\n",
            "None\n"
          ]
        }
      ]
    },
    {
      "cell_type": "code",
      "source": [
        "# To get statistical summary of the dataset\n",
        "\n",
        "print(data.describe())\n",
        "\n"
      ],
      "metadata": {
        "colab": {
          "base_uri": "https://localhost:8080/"
        },
        "id": "p9U3Q4O6eXbR",
        "outputId": "f303c8ab-1608-434e-92b0-5ed47fc6f7bb"
      },
      "execution_count": null,
      "outputs": [
        {
          "output_type": "stream",
          "name": "stdout",
          "text": [
            "       Unnamed: 0.1   Unnamed: 0          Price\n",
            "count    1303.00000  1273.000000    1273.000000\n",
            "mean      651.00000   652.674784   59955.814073\n",
            "std       376.28801   376.493027   37332.251005\n",
            "min         0.00000     0.000000    9270.720000\n",
            "25%       325.50000   327.000000   31914.720000\n",
            "50%       651.00000   652.000000   52161.120000\n",
            "75%       976.50000   980.000000   79333.387200\n",
            "max      1302.00000  1302.000000  324954.720000\n"
          ]
        }
      ]
    },
    {
      "cell_type": "markdown",
      "source": [
        "**Step 03 : Data Cleaning**"
      ],
      "metadata": {
        "id": "akeWpcmwejZM"
      }
    },
    {
      "cell_type": "code",
      "source": [
        "# Check for missing values\n",
        "\n",
        "missing_values = data.isnull().sum()\n",
        "\n",
        "print(\"Missing Values: \\n\" , missing_values)\n",
        "\n"
      ],
      "metadata": {
        "colab": {
          "base_uri": "https://localhost:8080/"
        },
        "id": "Z2BNwAUHemlP",
        "outputId": "2cff187b-13fb-449c-e9ff-f199133cb1ef"
      },
      "execution_count": null,
      "outputs": [
        {
          "output_type": "stream",
          "name": "stdout",
          "text": [
            "Missing Values: \n",
            " Unnamed: 0.1         0\n",
            "Unnamed: 0          30\n",
            "Company             30\n",
            "TypeName            30\n",
            "Inches              30\n",
            "ScreenResolution    30\n",
            "Cpu                 30\n",
            "Ram                 30\n",
            "Memory              30\n",
            "Gpu                 30\n",
            "OpSys               30\n",
            "Weight              30\n",
            "Price               30\n",
            "dtype: int64\n"
          ]
        }
      ]
    },
    {
      "cell_type": "code",
      "source": [
        "# Drop unnecessary columns (e.g., Unnamed: 0)\n",
        "\n",
        "data = data.drop(columns=['Unnamed: 0'])\n",
        "\n"
      ],
      "metadata": {
        "id": "MjbuHQE9e6BL"
      },
      "execution_count": null,
      "outputs": []
    },
    {
      "cell_type": "code",
      "source": [
        "# Handle missing values\n",
        "\n",
        "data = data.dropna()"
      ],
      "metadata": {
        "id": "ak7EJ4gWe_26"
      },
      "execution_count": null,
      "outputs": []
    },
    {
      "cell_type": "markdown",
      "source": [
        "**Step 04 : Data Pre-Processing**"
      ],
      "metadata": {
        "id": "TR_3s0AlfqsO"
      }
    },
    {
      "cell_type": "code",
      "source": [
        "# Encoding categorical features by importing the class' LabelEncoder'\n",
        "\n",
        "from sklearn.preprocessing import LabelEncoder\n",
        "\n",
        "categorical_cols = ['Company', 'TypeName', 'OpSys', 'Gpu', 'Cpu']\n",
        "\n",
        "for col in categorical_cols:\n",
        "    data[col] = LabelEncoder().fit_transform(data[col])\n",
        "\n"
      ],
      "metadata": {
        "id": "ONyj9neSfvC0"
      },
      "execution_count": null,
      "outputs": []
    },
    {
      "cell_type": "code",
      "source": [
        "# Converting 'Weight' column to numeric\n",
        "\n",
        "#Ensure the 'Weight' column is treated as a string\n",
        "\n",
        "data['Weight'] = data['Weight'].astype(str)\n",
        "\n",
        "\n",
        "# Replace '?' with 0 before cleaning\n",
        "\n",
        "data['Weight'] = data['Weight'].replace('?', float('0'))\n",
        "\n",
        "\n",
        "# Remove any leading/trailing spaces and 'kg', then convert to float\n",
        "\n",
        "data['Weight'] = data['Weight'].str.strip().str.replace('kg', '').astype(float)\n",
        "\n",
        "\n",
        "# Handle NaN values by filling them with the mean\n",
        "\n",
        "data['Weight'] = data['Weight'].fillna(data['Weight'].mean())\n",
        "\n",
        "\n",
        "# Print the first few rows to verify the result\n",
        "\n",
        "print(data['Weight'].head())\n",
        "\n"
      ],
      "metadata": {
        "colab": {
          "base_uri": "https://localhost:8080/"
        },
        "id": "_D0_uVR-hFTk",
        "outputId": "768e6add-d02d-439f-baf4-23e08bdee35a"
      },
      "execution_count": null,
      "outputs": [
        {
          "output_type": "stream",
          "name": "stdout",
          "text": [
            "0   -0.876662\n",
            "1   -0.913829\n",
            "2   -0.269605\n",
            "3   -0.306772\n",
            "4   -0.876662\n",
            "Name: Weight, dtype: float64\n"
          ]
        }
      ]
    },
    {
      "cell_type": "code",
      "source": [
        "# Standardize numerical columns by importing class ' StandardScalar'\n",
        "\n",
        "from sklearn.preprocessing import StandardScaler\n",
        "scaler = StandardScaler()\n",
        "\n",
        "\n",
        "# Clean 'Inches' column\n",
        "\n",
        "data['Inches'] = data['Inches'].astype(str)                       # Convert to string if not already\n",
        "data['Inches'] = data['Inches'].replace('?', float('0'))          # Replace '?' with 0\n",
        "data['Inches'] = data['Inches'].str.strip().astype(float)         # Convert to float (after cleaning)\n",
        "\n",
        "\n",
        "# Define the numerical columns for scaling\n",
        "\n",
        "num_cols = ['Inches', 'Weight']\n",
        "\n",
        "# Apply standardization\n",
        "\n",
        "data[num_cols] = scaler.fit_transform(data[num_cols])\n",
        "\n",
        "# Step 5: Print first few rows to check the result\n",
        "\n",
        "print(data[num_cols].head())\n",
        "\n"
      ],
      "metadata": {
        "colab": {
          "base_uri": "https://localhost:8080/"
        },
        "id": "Dx44K9RBjQ4h",
        "outputId": "2e49ab9d-8467-4265-e9d0-d3a423b8fe68"
      },
      "execution_count": null,
      "outputs": [
        {
          "output_type": "stream",
          "name": "stdout",
          "text": [
            "     Inches    Weight\n",
            "0 -0.937118 -0.876662\n",
            "1 -0.937118 -0.913829\n",
            "2  0.240155 -0.269605\n",
            "3  0.137783 -0.306772\n",
            "4 -0.937118 -0.876662\n"
          ]
        }
      ]
    },
    {
      "cell_type": "markdown",
      "source": [
        "**Step 05 : Exploratory Data Analysis**"
      ],
      "metadata": {
        "id": "VV7HpzRGkqDo"
      }
    },
    {
      "cell_type": "code",
      "source": [
        "# Importing the 'Seaborn' Library and 'pyplot' class from 'Matplotlib' Library\n",
        "\n",
        "import seaborn as sns\n",
        "import matplotlib.pyplot as plt\n",
        "\n"
      ],
      "metadata": {
        "id": "JR1QR4U_kuNU"
      },
      "execution_count": null,
      "outputs": []
    },
    {
      "cell_type": "code",
      "source": [
        "# Correlation heatmap\n",
        "\n",
        "# Creates a figure of size 10 x 6 inches\n",
        "\n",
        "plt.figure(figsize=(10, 6))\n",
        "\n",
        "\n",
        "# Select only numerical columns from the dataset\n",
        "\n",
        "numeric_data = data.select_dtypes(include=['float64', 'int64'])\n",
        "\n",
        "\n",
        "# Creates a heatmap to visualize correlation matrix\n",
        "\n",
        "sns.heatmap(numeric_data.corr(), annot=True, cmap='coolwarm')\n",
        "\n",
        "\n",
        "plt.title(\"Feature Correlations with Price\")\n",
        "\n",
        "plt.show()\n",
        "\n"
      ],
      "metadata": {
        "colab": {
          "base_uri": "https://localhost:8080/",
          "height": 629
        },
        "id": "Se7Dvclro7_c",
        "outputId": "c82523ea-03e8-4cc1-858d-1bbb8e42bb0f"
      },
      "execution_count": null,
      "outputs": [
        {
          "output_type": "display_data",
          "data": {
            "text/plain": [
              "<Figure size 1000x600 with 2 Axes>"
            ],
            "image/png": "[encoded data removed]"
          },
          "metadata": {}
        }
      ]
    },
    {
      "cell_type": "code",
      "source": [
        "# Distribution of Price\n",
        "\n",
        "# Creates histogram to visualize distribution of single variable\n",
        "\n",
        "sns.histplot(data['Price'], kde=True, bins=30)\n",
        "\n",
        "\n",
        "plt.title(\"Price Distribution\")\n",
        "\n",
        "plt.show()\n",
        "\n"
      ],
      "metadata": {
        "colab": {
          "base_uri": "https://localhost:8080/",
          "height": 472
        },
        "id": "6bWLFxLcqOJp",
        "outputId": "1a601237-a82b-4228-d201-3f9253e1383d"
      },
      "execution_count": null,
      "outputs": [
        {
          "output_type": "display_data",
          "data": {
            "text/plain": [
              "<Figure size 640x480 with 1 Axes>"
            ],
            "image/png": "[encoded data removed]"
          },
          "metadata": {}
        }
      ]
    },
    {
      "cell_type": "markdown",
      "source": [
        "**Step 06 : Feature Engineering**"
      ],
      "metadata": {
        "id": "CxhAaoSmq3y_"
      }
    },
    {
      "cell_type": "code",
      "source": [
        "print(data.columns)"
      ],
      "metadata": {
        "colab": {
          "base_uri": "https://localhost:8080/"
        },
        "id": "pwOYOBaF1ePG",
        "outputId": "b02d64d4-d84d-42a8-b178-411babb78fe7"
      },
      "execution_count": null,
      "outputs": [
        {
          "output_type": "stream",
          "name": "stdout",
          "text": [
            "Index(['Unnamed: 0.1', 'Company', 'TypeName', 'Inches', 'Cpu', 'Ram', 'Memory',\n",
            "       'Gpu', 'OpSys', 'Weight', 'Price', 'TotalPixels'],\n",
            "      dtype='object')\n"
          ]
        }
      ]
    },
    {
      "cell_type": "markdown",
      "source": [
        "**Step 07 : Model Development**"
      ],
      "metadata": {
        "id": "zDjnRmmntxF0"
      }
    },
    {
      "cell_type": "code",
      "source": [
        "# Importing the 'Train Test Split' function from the 'Model Selection' module of 'sklearn' Library to help split your data into training and testing sets\n",
        "\n",
        "from sklearn.model_selection import train_test_split\n",
        "\n",
        "\n",
        "# Importing the 'Linear Regression' class from the 'Linear Model' module of 'sklearn' Library to create a linear regression model\n",
        "\n",
        "from sklearn.linear_model import LinearRegression\n",
        "\n",
        "\n",
        "# Importing the 'Random Forest Regressor' class from the 'Ensemble' module of 'sklearn' Library to create a random forest regression model\n",
        "\n",
        "from sklearn.ensemble import RandomForestRegressor\n",
        "\n",
        "\n",
        "# Importing the 'Mean Squared Error (MSE)' and 'R2 Score' functions from the 'Metrics' module of 'sklearn' Library to evaluate the performance of models\n",
        "\n",
        "from sklearn.metrics import mean_squared_error, r2_score\n",
        "\n"
      ],
      "metadata": {
        "id": "hNLqZA1ot0H6"
      },
      "execution_count": null,
      "outputs": []
    },
    {
      "cell_type": "code",
      "source": [
        "# Splitting the data into 'x' and 'y' features\n",
        "\n",
        "\n",
        "X = data.drop(columns=['Price'])\n",
        "\n",
        "y = data['Price']\n",
        "\n",
        "\n",
        "# Apply one-hot encoding to categorical features\n",
        "\n",
        "X = pd.get_dummies(X, drop_first=True)     # Drop the first category\n",
        "\n"
      ],
      "metadata": {
        "id": "T4LXEDGrvosH"
      },
      "execution_count": null,
      "outputs": []
    },
    {
      "cell_type": "code",
      "source": [
        "# Train-Test Split\n",
        "\n",
        "X_train, X_test, y_train, y_test = train_test_split(X, y, test_size=0.2, random_state=42)\n"
      ],
      "metadata": {
        "id": "k131nNeWv0IK"
      },
      "execution_count": null,
      "outputs": []
    },
    {
      "cell_type": "code",
      "source": [
        "# Linear Regression Model\n",
        "\n",
        "from sklearn.impute import SimpleImputer\n",
        "\n",
        "\n",
        "# Handle missing values by imputation (using the mean strategy)\n",
        "\n",
        "imputer = SimpleImputer(strategy='mean')\n",
        "X_train = imputer.fit_transform(X_train)\n",
        "X_test = imputer.transform(X_test)\n",
        "\n",
        "\n",
        "# Initialize the Linear Regression model\n",
        "lr = LinearRegression()\n",
        "\n",
        "\n",
        "# Fit the model to the training data\n",
        "lr.fit(X_train, y_train)\n",
        "\n",
        "\n",
        "# Make predictions on the test set\n",
        "lr_preds = lr.predict(X_test)\n",
        "\n"
      ],
      "metadata": {
        "id": "A9NSinvr2rJW"
      },
      "execution_count": null,
      "outputs": []
    },
    {
      "cell_type": "code",
      "source": [
        "# Random Forest Regressor Model\n",
        "\n",
        "\n",
        "# Initialize the Random Forest Regressor model\n",
        "rf = RandomForestRegressor()\n",
        "\n",
        "# FIt the model to the training data\n",
        "rf.fit(X_train, y_train)\n",
        "\n",
        "# Make predictions on the test set\n",
        "rf_preds = rf.predict(X_test)\n",
        "\n"
      ],
      "metadata": {
        "id": "ljYUVBAZ3loz"
      },
      "execution_count": null,
      "outputs": []
    },
    {
      "cell_type": "markdown",
      "source": [
        "**Step 08 : Evaluating the performances of the Model**"
      ],
      "metadata": {
        "id": "lL22h3Zw4INr"
      }
    },
    {
      "cell_type": "code",
      "source": [
        "# Evaluating the performance of Linear Regression Model\n",
        "\n",
        "import numpy as np\n",
        "\n",
        "\n",
        "print('Linear Regression:')\n",
        "\n",
        "print('RMSE:', np.sqrt(mean_squared_error(y_test, lr_preds)))\n",
        "\n",
        "print('R2 Score:', r2_score(y_test, lr_preds))\n",
        "\n"
      ],
      "metadata": {
        "colab": {
          "base_uri": "https://localhost:8080/"
        },
        "id": "YGoqFoNV4ScB",
        "outputId": "26818a9d-a2a1-4bb4-b9a2-de188de0bebe"
      },
      "execution_count": null,
      "outputs": [
        {
          "output_type": "stream",
          "name": "stdout",
          "text": [
            "Linear Regression:\n",
            "RMSE: 26436.427748477774\n",
            "R2 Score: 0.5182360762508089\n"
          ]
        }
      ]
    },
    {
      "cell_type": "code",
      "source": [
        "# Evaluating the performance of Random Forest Regressor Model\n",
        "\n",
        "print('Random Forest Regressor:')\n",
        "\n",
        "print('RMSE:', np.sqrt(mean_squared_error(y_test, rf_preds)))\n",
        "\n",
        "print('R2 Score:', r2_score(y_test, rf_preds))\n",
        "\n"
      ],
      "metadata": {
        "colab": {
          "base_uri": "https://localhost:8080/"
        },
        "id": "EOiA9jxz5XWv",
        "outputId": "aaae5503-a154-44ca-974c-963f84b1376a"
      },
      "execution_count": null,
      "outputs": [
        {
          "output_type": "stream",
          "name": "stdout",
          "text": [
            "Random Forest Regressor:\n",
            "RMSE: 18820.938828528495\n",
            "R2 Score: 0.755819318706619\n"
          ]
        }
      ]
    },
    {
      "cell_type": "markdown",
      "source": [
        "**Step 09 : Comparing the Models**"
      ],
      "metadata": {
        "id": "pX9yOwFI6EaN"
      }
    },
    {
      "cell_type": "code",
      "source": [
        "model_comparison = pd.DataFrame({\n",
        "    'Model': ['Linear Regression', 'Random Forest Regressor'],\n",
        "\n",
        "    'RMSE': [np.sqrt(mean_squared_error(y_test, lr_preds)),\n",
        "              np.sqrt(mean_squared_error(y_test, rf_preds))],\n",
        "\n",
        "    'R2 Score': [\n",
        "        r2_score(y_test, lr_preds),\n",
        "        r2_score(y_test, rf_preds)]\n",
        "})\n",
        "\n",
        "print(model_comparison)\n"
      ],
      "metadata": {
        "colab": {
          "base_uri": "https://localhost:8080/"
        },
        "id": "ESzSvw6z6H7o",
        "outputId": "46339113-e9ff-471b-c52e-47e153cde2c3"
      },
      "execution_count": null,
      "outputs": [
        {
          "output_type": "stream",
          "name": "stdout",
          "text": [
            "                     Model          RMSE  R2 Score\n",
            "0        Linear Regression  26436.427748  0.518236\n",
            "1  Random Forest Regressor  18820.938829  0.755819\n"
          ]
        }
      ]
    },
    {
      "cell_type": "markdown",
      "source": [
        "**Step 10 : Hyperparamter Tuning**"
      ],
      "metadata": {
        "id": "N-U1_jlD7GcT"
      }
    },
    {
      "cell_type": "code",
      "source": [
        "from sklearn.model_selection import GridSearchCV\n",
        "\n",
        "# Defining the Hyperparamter Grid\n",
        "\n",
        "param_grid = {\n",
        "    'n_estimators': [100, 200],\n",
        "    'max_depth': [None, 10, 20]\n",
        "}\n",
        "\n",
        "\n",
        "# Setting up Grid Search CV\n",
        "\n",
        "grid_search = GridSearchCV(rf, param_grid, cv=3, scoring='neg_mean_squared_error', verbose=2)\n",
        "\n",
        "\n",
        "# Fitting the Model\n",
        "\n",
        "grid_search.fit(X_train, y_train)\n",
        "\n",
        "\n",
        "# Selecting the Best Model\n",
        "\n",
        "best_rf = grid_search.best_estimator_\n",
        "\n",
        "\n",
        "# Making predictions and evaluating the Tuned Model\n",
        "\n",
        "best_rf_preds = best_rf.predict(X_test)\n",
        "mse = mean_squared_error(y_test, best_rf_preds)\n",
        "rmse = np.sqrt(mse)\n",
        "print(\"Tuned Random Forest RMSE:\", rmse)\n",
        "\n"
      ],
      "metadata": {
        "colab": {
          "base_uri": "https://localhost:8080/"
        },
        "id": "41LwVN2m7LJ2",
        "outputId": "3e7181b6-bcc9-4965-8804-55d3b32385d1"
      },
      "execution_count": null,
      "outputs": [
        {
          "output_type": "stream",
          "name": "stdout",
          "text": [
            "Fitting 3 folds for each of 6 candidates, totalling 18 fits\n",
            "[CV] END ...................max_depth=None, n_estimators=100; total time=   0.6s\n",
            "[CV] END ...................max_depth=None, n_estimators=100; total time=   0.9s\n",
            "[CV] END ...................max_depth=None, n_estimators=100; total time=   1.0s\n",
            "[CV] END ...................max_depth=None, n_estimators=200; total time=   3.9s\n",
            "[CV] END ...................max_depth=None, n_estimators=200; total time=   2.2s\n",
            "[CV] END ...................max_depth=None, n_estimators=200; total time=   1.7s\n",
            "[CV] END .....................max_depth=10, n_estimators=100; total time=   1.1s\n",
            "[CV] END .....................max_depth=10, n_estimators=100; total time=   0.8s\n",
            "[CV] END .....................max_depth=10, n_estimators=100; total time=   0.4s\n",
            "[CV] END .....................max_depth=10, n_estimators=200; total time=   0.8s\n",
            "[CV] END .....................max_depth=10, n_estimators=200; total time=   0.8s\n",
            "[CV] END .....................max_depth=10, n_estimators=200; total time=   0.8s\n",
            "[CV] END .....................max_depth=20, n_estimators=100; total time=   0.5s\n",
            "[CV] END .....................max_depth=20, n_estimators=100; total time=   0.5s\n",
            "[CV] END .....................max_depth=20, n_estimators=100; total time=   0.5s\n",
            "[CV] END .....................max_depth=20, n_estimators=200; total time=   1.2s\n",
            "[CV] END .....................max_depth=20, n_estimators=200; total time=   1.5s\n",
            "[CV] END .....................max_depth=20, n_estimators=200; total time=   1.5s\n",
            "Tuned Random Forest RMSE: 18765.090453619643\n"
          ]
        }
      ]
    }
  ]
}